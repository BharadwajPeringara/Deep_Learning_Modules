{
 "cells": [
  {
   "cell_type": "code",
   "execution_count": 1,
   "metadata": {},
   "outputs": [],
   "source": [
    "import nltk\n",
    "import re   #regular expression\n",
    "# nltk.download('punkt')  #used for tokenization\n",
    "# nltk.download('wordnet')    #used as wordcloud\n",
    "# nltk.download('omw-1.4')   \n",
    "# nltk.download('stopwords')    #used as stopwords in wordcloud\n",
    "\n",
    "from nltk.corpus import stopwords\n",
    "from nltk.stem.porter import PorterStemmer  #used for stemming\n",
    "from nltk.stem.wordnet import WordNetLemmatizer #used for lemmatization\n",
    "from nltk.tokenize import sent_tokenize, word_tokenize\n",
    "from wordcloud import WordCloud, STOPWORDS"
   ]
  },
  {
   "cell_type": "markdown",
   "metadata": {},
   "source": [
    "Input Text"
   ]
  },
  {
   "cell_type": "code",
   "execution_count": 2,
   "metadata": {},
   "outputs": [],
   "source": [
    "text=\"Natural Language Processing is an exciting area. Huge budget have been allocated for this.\""
   ]
  },
  {
   "cell_type": "markdown",
   "metadata": {},
   "source": [
    "Tokenization"
   ]
  },
  {
   "cell_type": "code",
   "execution_count": 3,
   "metadata": {},
   "outputs": [
    {
     "data": {
      "text/plain": [
       "['Natural Language Processing is an exciting area.',\n",
       " 'Huge budget have been allocated for this.']"
      ]
     },
     "execution_count": 3,
     "metadata": {},
     "output_type": "execute_result"
    }
   ],
   "source": [
    "sent_tokenize(text)"
   ]
  },
  {
   "cell_type": "code",
   "execution_count": 4,
   "metadata": {},
   "outputs": [
    {
     "data": {
      "text/plain": [
       "['Natural',\n",
       " 'Language',\n",
       " 'Processing',\n",
       " 'is',\n",
       " 'an',\n",
       " 'exciting',\n",
       " 'area',\n",
       " '.',\n",
       " 'Huge',\n",
       " 'budget',\n",
       " 'have',\n",
       " 'been',\n",
       " 'allocated',\n",
       " 'for',\n",
       " 'this',\n",
       " '.']"
      ]
     },
     "execution_count": 4,
     "metadata": {},
     "output_type": "execute_result"
    }
   ],
   "source": [
    "word_tokenize(text)"
   ]
  },
  {
   "cell_type": "markdown",
   "metadata": {},
   "source": [
    "Lower Case Conversion"
   ]
  },
  {
   "cell_type": "code",
   "execution_count": 5,
   "metadata": {},
   "outputs": [
    {
     "name": "stdout",
     "output_type": "stream",
     "text": [
      "['natural', 'language', 'processing', 'is', 'an', 'exciting', 'area', 'huge', 'budget', 'have', 'been', 'allocated', 'for', 'this']\n"
     ]
    }
   ],
   "source": [
    "text = re.sub(r'[^Aa-zZ 0-9]',' ',text.lower())\n",
    "words = text.split()\n",
    "print(words)\n"
   ]
  },
  {
   "cell_type": "markdown",
   "metadata": {},
   "source": [
    "Stop word removal"
   ]
  },
  {
   "cell_type": "code",
   "execution_count": 6,
   "metadata": {},
   "outputs": [
    {
     "name": "stdout",
     "output_type": "stream",
     "text": [
      "['i', 'me', 'my', 'myself', 'we', 'our', 'ours', 'ourselves', 'you', \"you're\", \"you've\", \"you'll\", \"you'd\", 'your', 'yours', 'yourself', 'yourselves', 'he', 'him', 'his', 'himself', 'she', \"she's\", 'her', 'hers', 'herself', 'it', \"it's\", 'its', 'itself', 'they', 'them', 'their', 'theirs', 'themselves', 'what', 'which', 'who', 'whom', 'this', 'that', \"that'll\", 'these', 'those', 'am', 'is', 'are', 'was', 'were', 'be', 'been', 'being', 'have', 'has', 'had', 'having', 'do', 'does', 'did', 'doing', 'a', 'an', 'the', 'and', 'but', 'if', 'or', 'because', 'as', 'until', 'while', 'of', 'at', 'by', 'for', 'with', 'about', 'against', 'between', 'into', 'through', 'during', 'before', 'after', 'above', 'below', 'to', 'from', 'up', 'down', 'in', 'out', 'on', 'off', 'over', 'under', 'again', 'further', 'then', 'once', 'here', 'there', 'when', 'where', 'why', 'how', 'all', 'any', 'both', 'each', 'few', 'more', 'most', 'other', 'some', 'such', 'no', 'nor', 'not', 'only', 'own', 'same', 'so', 'than', 'too', 'very', 's', 't', 'can', 'will', 'just', 'don', \"don't\", 'should', \"should've\", 'now', 'd', 'll', 'm', 'o', 're', 've', 'y', 'ain', 'aren', \"aren't\", 'couldn', \"couldn't\", 'didn', \"didn't\", 'doesn', \"doesn't\", 'hadn', \"hadn't\", 'hasn', \"hasn't\", 'haven', \"haven't\", 'isn', \"isn't\", 'ma', 'mightn', \"mightn't\", 'mustn', \"mustn't\", 'needn', \"needn't\", 'shan', \"shan't\", 'shouldn', \"shouldn't\", 'wasn', \"wasn't\", 'weren', \"weren't\", 'won', \"won't\", 'wouldn', \"wouldn't\"]\n"
     ]
    }
   ],
   "source": [
    "print(stopwords.words('english'))"
   ]
  },
  {
   "cell_type": "code",
   "execution_count": 7,
   "metadata": {},
   "outputs": [
    {
     "name": "stdout",
     "output_type": "stream",
     "text": [
      "{\"we've\", \"won't\", \"when's\", 'com', 'did', \"hasn't\", 'them', \"wasn't\", 'those', 'have', \"couldn't\", 'else', 'he', \"he'll\", 'once', \"she's\", 'otherwise', 'cannot', 'theirs', 'as', \"i'd\", \"they'll\", 'she', 'how', \"can't\", 'since', 'its', 'could', 'http', 'under', 'very', 'few', \"mustn't\", \"who's\", 'at', 'which', 'are', \"why's\", 'do', 'between', 'for', \"hadn't\", 'r', 'both', 'were', 'his', 'an', 'doing', 'again', \"doesn't\", 'can', \"you'd\", 'themselves', 'of', 'these', \"weren't\", 'myself', 'before', 'k', 'other', \"you'll\", 'am', 'during', \"what's\", 'what', 'too', 'more', 'being', 'like', 'does', \"she'd\", 'but', 'or', 'off', 'until', 'having', 'no', 'nor', 'while', 'www', 'with', 'a', 'by', \"that's\", 'to', \"they're\", 'if', 'is', 'through', 'into', 'the', 'herself', \"you've\", 'about', \"wouldn't\", 'my', 'yourself', \"he's\", 'below', \"here's\", 'why', 'however', 'and', 'was', 'get', \"let's\", 'just', 'itself', 'over', 'also', 'who', 'so', \"he'd\", 'it', \"isn't\", 'this', 'same', 'her', 'against', 'own', 'there', 'been', 'where', 'had', \"i've\", \"it's\", 'hers', \"didn't\", 'their', 'has', \"there's\", 'i', 'when', 'ought', 'our', 'yours', 'should', 'then', 'we', 'from', 'your', 'shall', \"shan't\", \"i'm\", \"haven't\", 'hence', \"how's\", 'would', \"don't\", 'each', 'therefore', \"we'd\", 'above', \"you're\", \"we're\", 'ourselves', 'himself', 'such', 'only', 'that', 'here', \"they'd\", 'on', 'most', 'whom', 'after', 'me', 'down', \"they've\", \"i'll\", 'any', 'further', 'than', \"shouldn't\", 'ever', 'they', 'out', 'ours', 'all', \"she'll\", 'because', 'in', 'you', \"aren't\", 'some', 'be', 'him', 'not', \"where's\", \"we'll\", 'yourselves', 'up'}\n"
     ]
    }
   ],
   "source": [
    "print(set(STOPWORDS))"
   ]
  },
  {
   "cell_type": "code",
   "execution_count": 8,
   "metadata": {},
   "outputs": [],
   "source": [
    "new_words = []\n",
    "for w in words:\n",
    "    if w not in stopwords.words('english'):\n",
    "        new_words.append(w)"
   ]
  },
  {
   "cell_type": "code",
   "execution_count": 9,
   "metadata": {},
   "outputs": [],
   "source": [
    "new_words = []\n",
    "stop = set(STOPWORDS)\n",
    "for w in words:\n",
    "    if w not in stop:\n",
    "        new_words.append(w)\n"
   ]
  },
  {
   "cell_type": "code",
   "execution_count": 10,
   "metadata": {},
   "outputs": [
    {
     "data": {
      "text/plain": [
       "['natural',\n",
       " 'language',\n",
       " 'processing',\n",
       " 'exciting',\n",
       " 'area',\n",
       " 'huge',\n",
       " 'budget',\n",
       " 'allocated']"
      ]
     },
     "execution_count": 10,
     "metadata": {},
     "output_type": "execute_result"
    }
   ],
   "source": [
    "new_words"
   ]
  },
  {
   "cell_type": "code",
   "execution_count": 11,
   "metadata": {},
   "outputs": [],
   "source": [
    "words = [w for w in words if w not in stopwords.words('english')]"
   ]
  },
  {
   "cell_type": "code",
   "execution_count": 12,
   "metadata": {},
   "outputs": [
    {
     "data": {
      "text/plain": [
       "['natural',\n",
       " 'language',\n",
       " 'processing',\n",
       " 'exciting',\n",
       " 'area',\n",
       " 'huge',\n",
       " 'budget',\n",
       " 'allocated']"
      ]
     },
     "execution_count": 12,
     "metadata": {},
     "output_type": "execute_result"
    }
   ],
   "source": [
    "words"
   ]
  },
  {
   "cell_type": "markdown",
   "metadata": {},
   "source": [
    " Stemming"
   ]
  },
  {
   "cell_type": "code",
   "execution_count": 13,
   "metadata": {},
   "outputs": [
    {
     "data": {
      "text/plain": [
       "'alloc'"
      ]
     },
     "execution_count": 13,
     "metadata": {},
     "output_type": "execute_result"
    }
   ],
   "source": [
    "stemmer = PorterStemmer()\n",
    "stemmer.stem('allocated')"
   ]
  },
  {
   "cell_type": "code",
   "execution_count": 14,
   "metadata": {},
   "outputs": [
    {
     "data": {
      "text/plain": [
       "['natur', 'languag', 'process', 'excit', 'area', 'huge', 'budget', 'alloc']"
      ]
     },
     "execution_count": 14,
     "metadata": {},
     "output_type": "execute_result"
    }
   ],
   "source": [
    "stemmed = [PorterStemmer(). stem(w) for w in words ]\n",
    "stemmed"
   ]
  },
  {
   "cell_type": "markdown",
   "metadata": {},
   "source": [
    "Lemmatization"
   ]
  },
  {
   "cell_type": "code",
   "execution_count": 15,
   "metadata": {},
   "outputs": [
    {
     "name": "stdout",
     "output_type": "stream",
     "text": [
      "['natural', 'language', 'processing', 'exciting', 'area', 'huge', 'budget', 'allocated']\n"
     ]
    }
   ],
   "source": [
    "lemmed = [WordNetLemmatizer().lemmatize(w) for w in words]\n",
    "print(lemmed)"
   ]
  },
  {
   "cell_type": "markdown",
   "metadata": {},
   "source": [
    "Single cell execution"
   ]
  },
  {
   "cell_type": "code",
   "execution_count": 16,
   "metadata": {},
   "outputs": [],
   "source": [
    "text=\"Natural Language Processing is an exciting area. Huge budget have been allocated for this.\"\n",
    "text = re.sub(r'[^a-zA-Z0-9]',' ', text.lower())\n",
    "words = text.split()\n",
    "stop = set(STOPWORDS)\n",
    "stoptext = [w for w in words if w not in stop]\n",
    "final_words = [WordNetLemmatizer().lemmatize(w) for w in stoptext]"
   ]
  },
  {
   "cell_type": "code",
   "execution_count": 17,
   "metadata": {},
   "outputs": [
    {
     "name": "stdout",
     "output_type": "stream",
     "text": [
      "['natural', 'language', 'processing', 'exciting', 'area', 'huge', 'budget', 'allocated']\n"
     ]
    }
   ],
   "source": [
    "print(final_words)"
   ]
  },
  {
   "cell_type": "markdown",
   "metadata": {},
   "source": [
    "Parts of Speech"
   ]
  },
  {
   "cell_type": "code",
   "execution_count": 18,
   "metadata": {},
   "outputs": [],
   "source": [
    "# nltk.download('averaged_perceptron_tagger')"
   ]
  },
  {
   "cell_type": "code",
   "execution_count": 19,
   "metadata": {},
   "outputs": [
    {
     "name": "stdout",
     "output_type": "stream",
     "text": [
      "[('Natural', 'JJ'), ('Language', 'NNP'), ('Processing', 'NNP'), ('exciting', 'VBG'), ('area', 'NN'), ('.', '.')]\n",
      "[('Huge', 'NNP'), ('budget', 'NN'), ('allocated', 'VBD'), ('.', '.')]\n"
     ]
    }
   ],
   "source": [
    "text=\"Natural Language Processing is an exciting area. Huge budget have been allocated for this.\"\n",
    "\n",
    "tokenized = sent_tokenize(text)\n",
    "for i in tokenized:\n",
    "    wordList = word_tokenize(i)\n",
    "    wordList = [w for w in wordList if w not in stop]\n",
    "    tagged = nltk.pos_tag(wordList)\n",
    "    print(tagged)"
   ]
  }
 ],
 "metadata": {
  "kernelspec": {
   "display_name": "Python 3.10.4 ('myenv')",
   "language": "python",
   "name": "python3"
  },
  "language_info": {
   "codemirror_mode": {
    "name": "ipython",
    "version": 3
   },
   "file_extension": ".py",
   "mimetype": "text/x-python",
   "name": "python",
   "nbconvert_exporter": "python",
   "pygments_lexer": "ipython3",
   "version": "3.10.4"
  },
  "orig_nbformat": 4,
  "vscode": {
   "interpreter": {
    "hash": "5ee51c65a63dc16c34b9374c43395dd0ce1f2e1d5bacd929e6f3123f749a717d"
   }
  }
 },
 "nbformat": 4,
 "nbformat_minor": 2
}
